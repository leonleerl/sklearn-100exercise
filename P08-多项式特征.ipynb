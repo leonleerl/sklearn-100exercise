{
 "cells": [
  {
   "cell_type": "markdown",
   "id": "4d78ef6c-66d5-42f2-a0b4-f8828d9ec799",
   "metadata": {},
   "source": [
    "# P037 多项式特征-单个变量的多项式特征 "
   ]
  },
  {
   "cell_type": "code",
   "execution_count": 4,
   "id": "400d6267-5831-4da6-bf40-2e1601dbbc4d",
   "metadata": {},
   "outputs": [],
   "source": [
    "import numpy as np\n",
    "import pandas as pd"
   ]
  },
  {
   "cell_type": "code",
   "execution_count": 10,
   "id": "255653fe-ac0e-4f92-af59-773d1b415956",
   "metadata": {},
   "outputs": [],
   "source": [
    "from sklearn.preprocessing import PolynomialFeatures"
   ]
  },
  {
   "cell_type": "code",
   "execution_count": 6,
   "id": "599289f8-2df4-47c2-af00-fa53611ff20d",
   "metadata": {},
   "outputs": [],
   "source": [
    "df = pd.DataFrame(\n",
    "    data = np.arange(10),\n",
    "    columns = [\"x\"]\n",
    ")"
   ]
  },
  {
   "cell_type": "code",
   "execution_count": 8,
   "id": "991ee30d-bbf9-4e79-b2e2-2bbc81214e8e",
   "metadata": {},
   "outputs": [
    {
     "data": {
      "text/html": [
       "<div>\n",
       "<style scoped>\n",
       "    .dataframe tbody tr th:only-of-type {\n",
       "        vertical-align: middle;\n",
       "    }\n",
       "\n",
       "    .dataframe tbody tr th {\n",
       "        vertical-align: top;\n",
       "    }\n",
       "\n",
       "    .dataframe thead th {\n",
       "        text-align: right;\n",
       "    }\n",
       "</style>\n",
       "<table border=\"1\" class=\"dataframe\">\n",
       "  <thead>\n",
       "    <tr style=\"text-align: right;\">\n",
       "      <th></th>\n",
       "      <th>x</th>\n",
       "    </tr>\n",
       "  </thead>\n",
       "  <tbody>\n",
       "    <tr>\n",
       "      <th>0</th>\n",
       "      <td>0</td>\n",
       "    </tr>\n",
       "    <tr>\n",
       "      <th>1</th>\n",
       "      <td>1</td>\n",
       "    </tr>\n",
       "    <tr>\n",
       "      <th>2</th>\n",
       "      <td>2</td>\n",
       "    </tr>\n",
       "    <tr>\n",
       "      <th>3</th>\n",
       "      <td>3</td>\n",
       "    </tr>\n",
       "    <tr>\n",
       "      <th>4</th>\n",
       "      <td>4</td>\n",
       "    </tr>\n",
       "    <tr>\n",
       "      <th>5</th>\n",
       "      <td>5</td>\n",
       "    </tr>\n",
       "    <tr>\n",
       "      <th>6</th>\n",
       "      <td>6</td>\n",
       "    </tr>\n",
       "    <tr>\n",
       "      <th>7</th>\n",
       "      <td>7</td>\n",
       "    </tr>\n",
       "    <tr>\n",
       "      <th>8</th>\n",
       "      <td>8</td>\n",
       "    </tr>\n",
       "    <tr>\n",
       "      <th>9</th>\n",
       "      <td>9</td>\n",
       "    </tr>\n",
       "  </tbody>\n",
       "</table>\n",
       "</div>"
      ],
      "text/plain": [
       "   x\n",
       "0  0\n",
       "1  1\n",
       "2  2\n",
       "3  3\n",
       "4  4\n",
       "5  5\n",
       "6  6\n",
       "7  7\n",
       "8  8\n",
       "9  9"
      ]
     },
     "execution_count": 8,
     "metadata": {},
     "output_type": "execute_result"
    }
   ],
   "source": [
    "df"
   ]
  },
  {
   "cell_type": "code",
   "execution_count": 12,
   "id": "7bf8c48d-b82c-4f09-bc52-45b103077924",
   "metadata": {},
   "outputs": [],
   "source": [
    "poly = PolynomialFeatures(degree=2)"
   ]
  },
  {
   "cell_type": "code",
   "execution_count": 16,
   "id": "603c8e12-2963-45a5-b94e-0252bb553a23",
   "metadata": {},
   "outputs": [],
   "source": [
    "df_poly = poly.fit_transform(df)"
   ]
  },
  {
   "cell_type": "code",
   "execution_count": 18,
   "id": "ce1345bd-1be0-41ea-abe2-f09519d2b9d4",
   "metadata": {},
   "outputs": [
    {
     "data": {
      "text/plain": [
       "array([[ 1.,  0.,  0.],\n",
       "       [ 1.,  1.,  1.],\n",
       "       [ 1.,  2.,  4.],\n",
       "       [ 1.,  3.,  9.],\n",
       "       [ 1.,  4., 16.],\n",
       "       [ 1.,  5., 25.],\n",
       "       [ 1.,  6., 36.],\n",
       "       [ 1.,  7., 49.],\n",
       "       [ 1.,  8., 64.],\n",
       "       [ 1.,  9., 81.]])"
      ]
     },
     "execution_count": 18,
     "metadata": {},
     "output_type": "execute_result"
    }
   ],
   "source": [
    "df_poly"
   ]
  },
  {
   "cell_type": "markdown",
   "id": "8826537c-073e-4a53-8122-af62f7b8ffdb",
   "metadata": {},
   "source": [
    "# P038 多项式特性-多个变量的多项式特征"
   ]
  },
  {
   "cell_type": "code",
   "execution_count": null,
   "id": "f4152d12-1518-4bc5-8b4a-74946a29259c",
   "metadata": {},
   "outputs": [],
   "source": [
    "# degree=2\n",
    "# 2个特征会变成6个特征\n",
    "# X, Y -> 1, X, Y, X的平方, XY, Y的平方"
   ]
  },
  {
   "cell_type": "code",
   "execution_count": 21,
   "id": "4ec4e47e-8420-449e-846d-9056dc420fd5",
   "metadata": {},
   "outputs": [],
   "source": [
    "import numpy as np\n",
    "import pandas as pd\n",
    "from sklearn.preprocessing import PolynomialFeatures"
   ]
  },
  {
   "cell_type": "code",
   "execution_count": 23,
   "id": "d600dd5b-36a9-4b33-96cc-6249233ade39",
   "metadata": {},
   "outputs": [],
   "source": [
    "df = pd.DataFrame(\n",
    "    {\n",
    "        \"x\":np.arange(10),\n",
    "        \"y\":np.arange(10, 20)\n",
    "    }\n",
    ")"
   ]
  },
  {
   "cell_type": "code",
   "execution_count": 25,
   "id": "abdca910-2651-48e2-ad16-8ec7caaa81cf",
   "metadata": {},
   "outputs": [
    {
     "data": {
      "text/html": [
       "<div>\n",
       "<style scoped>\n",
       "    .dataframe tbody tr th:only-of-type {\n",
       "        vertical-align: middle;\n",
       "    }\n",
       "\n",
       "    .dataframe tbody tr th {\n",
       "        vertical-align: top;\n",
       "    }\n",
       "\n",
       "    .dataframe thead th {\n",
       "        text-align: right;\n",
       "    }\n",
       "</style>\n",
       "<table border=\"1\" class=\"dataframe\">\n",
       "  <thead>\n",
       "    <tr style=\"text-align: right;\">\n",
       "      <th></th>\n",
       "      <th>x</th>\n",
       "      <th>y</th>\n",
       "    </tr>\n",
       "  </thead>\n",
       "  <tbody>\n",
       "    <tr>\n",
       "      <th>0</th>\n",
       "      <td>0</td>\n",
       "      <td>10</td>\n",
       "    </tr>\n",
       "    <tr>\n",
       "      <th>1</th>\n",
       "      <td>1</td>\n",
       "      <td>11</td>\n",
       "    </tr>\n",
       "    <tr>\n",
       "      <th>2</th>\n",
       "      <td>2</td>\n",
       "      <td>12</td>\n",
       "    </tr>\n",
       "    <tr>\n",
       "      <th>3</th>\n",
       "      <td>3</td>\n",
       "      <td>13</td>\n",
       "    </tr>\n",
       "    <tr>\n",
       "      <th>4</th>\n",
       "      <td>4</td>\n",
       "      <td>14</td>\n",
       "    </tr>\n",
       "    <tr>\n",
       "      <th>5</th>\n",
       "      <td>5</td>\n",
       "      <td>15</td>\n",
       "    </tr>\n",
       "    <tr>\n",
       "      <th>6</th>\n",
       "      <td>6</td>\n",
       "      <td>16</td>\n",
       "    </tr>\n",
       "    <tr>\n",
       "      <th>7</th>\n",
       "      <td>7</td>\n",
       "      <td>17</td>\n",
       "    </tr>\n",
       "    <tr>\n",
       "      <th>8</th>\n",
       "      <td>8</td>\n",
       "      <td>18</td>\n",
       "    </tr>\n",
       "    <tr>\n",
       "      <th>9</th>\n",
       "      <td>9</td>\n",
       "      <td>19</td>\n",
       "    </tr>\n",
       "  </tbody>\n",
       "</table>\n",
       "</div>"
      ],
      "text/plain": [
       "   x   y\n",
       "0  0  10\n",
       "1  1  11\n",
       "2  2  12\n",
       "3  3  13\n",
       "4  4  14\n",
       "5  5  15\n",
       "6  6  16\n",
       "7  7  17\n",
       "8  8  18\n",
       "9  9  19"
      ]
     },
     "execution_count": 25,
     "metadata": {},
     "output_type": "execute_result"
    }
   ],
   "source": [
    "df"
   ]
  },
  {
   "cell_type": "code",
   "execution_count": 27,
   "id": "84b942dd-db5f-435b-b3e9-5786a4a4790f",
   "metadata": {},
   "outputs": [],
   "source": [
    "poly = PolynomialFeatures(degree=2)"
   ]
  },
  {
   "cell_type": "code",
   "execution_count": 29,
   "id": "cd51d308-ec37-4dd4-a79f-39cea67ca6d2",
   "metadata": {},
   "outputs": [],
   "source": [
    "df_poly = poly.fit_transform(df)"
   ]
  },
  {
   "cell_type": "code",
   "execution_count": 31,
   "id": "3356a868-9ef0-4150-8a12-6ceb4265a7dc",
   "metadata": {},
   "outputs": [
    {
     "data": {
      "text/plain": [
       "array([[  1.,   0.,  10.,   0.,   0., 100.],\n",
       "       [  1.,   1.,  11.,   1.,  11., 121.],\n",
       "       [  1.,   2.,  12.,   4.,  24., 144.],\n",
       "       [  1.,   3.,  13.,   9.,  39., 169.],\n",
       "       [  1.,   4.,  14.,  16.,  56., 196.],\n",
       "       [  1.,   5.,  15.,  25.,  75., 225.],\n",
       "       [  1.,   6.,  16.,  36.,  96., 256.],\n",
       "       [  1.,   7.,  17.,  49., 119., 289.],\n",
       "       [  1.,   8.,  18.,  64., 144., 324.],\n",
       "       [  1.,   9.,  19.,  81., 171., 361.]])"
      ]
     },
     "execution_count": 31,
     "metadata": {},
     "output_type": "execute_result"
    }
   ],
   "source": [
    "df_poly"
   ]
  },
  {
   "cell_type": "code",
   "execution_count": 33,
   "id": "60ca05fc-703d-4321-930f-d4aa1a331dd9",
   "metadata": {},
   "outputs": [],
   "source": [
    "poly = PolynomialFeatures(degree=3)"
   ]
  },
  {
   "cell_type": "code",
   "execution_count": 35,
   "id": "b78744a1-1f00-4a12-b7ff-97caba23285b",
   "metadata": {},
   "outputs": [],
   "source": [
    "df_poly = poly.fit_transform(df)"
   ]
  },
  {
   "cell_type": "code",
   "execution_count": 37,
   "id": "e7a972aa-3086-4677-a05f-40d69336d420",
   "metadata": {},
   "outputs": [
    {
     "data": {
      "text/plain": [
       "array([[1.000e+00, 0.000e+00, 1.000e+01, 0.000e+00, 0.000e+00, 1.000e+02,\n",
       "        0.000e+00, 0.000e+00, 0.000e+00, 1.000e+03],\n",
       "       [1.000e+00, 1.000e+00, 1.100e+01, 1.000e+00, 1.100e+01, 1.210e+02,\n",
       "        1.000e+00, 1.100e+01, 1.210e+02, 1.331e+03],\n",
       "       [1.000e+00, 2.000e+00, 1.200e+01, 4.000e+00, 2.400e+01, 1.440e+02,\n",
       "        8.000e+00, 4.800e+01, 2.880e+02, 1.728e+03],\n",
       "       [1.000e+00, 3.000e+00, 1.300e+01, 9.000e+00, 3.900e+01, 1.690e+02,\n",
       "        2.700e+01, 1.170e+02, 5.070e+02, 2.197e+03],\n",
       "       [1.000e+00, 4.000e+00, 1.400e+01, 1.600e+01, 5.600e+01, 1.960e+02,\n",
       "        6.400e+01, 2.240e+02, 7.840e+02, 2.744e+03],\n",
       "       [1.000e+00, 5.000e+00, 1.500e+01, 2.500e+01, 7.500e+01, 2.250e+02,\n",
       "        1.250e+02, 3.750e+02, 1.125e+03, 3.375e+03],\n",
       "       [1.000e+00, 6.000e+00, 1.600e+01, 3.600e+01, 9.600e+01, 2.560e+02,\n",
       "        2.160e+02, 5.760e+02, 1.536e+03, 4.096e+03],\n",
       "       [1.000e+00, 7.000e+00, 1.700e+01, 4.900e+01, 1.190e+02, 2.890e+02,\n",
       "        3.430e+02, 8.330e+02, 2.023e+03, 4.913e+03],\n",
       "       [1.000e+00, 8.000e+00, 1.800e+01, 6.400e+01, 1.440e+02, 3.240e+02,\n",
       "        5.120e+02, 1.152e+03, 2.592e+03, 5.832e+03],\n",
       "       [1.000e+00, 9.000e+00, 1.900e+01, 8.100e+01, 1.710e+02, 3.610e+02,\n",
       "        7.290e+02, 1.539e+03, 3.249e+03, 6.859e+03]])"
      ]
     },
     "execution_count": 37,
     "metadata": {},
     "output_type": "execute_result"
    }
   ],
   "source": [
    "df_poly"
   ]
  },
  {
   "cell_type": "code",
   "execution_count": null,
   "id": "e1df95f9-361b-433b-a969-2776515b7c1b",
   "metadata": {},
   "outputs": [],
   "source": []
  }
 ],
 "metadata": {
  "kernelspec": {
   "display_name": "Python [conda env:base] *",
   "language": "python",
   "name": "conda-base-py"
  },
  "language_info": {
   "codemirror_mode": {
    "name": "ipython",
    "version": 3
   },
   "file_extension": ".py",
   "mimetype": "text/x-python",
   "name": "python",
   "nbconvert_exporter": "python",
   "pygments_lexer": "ipython3",
   "version": "3.12.7"
  }
 },
 "nbformat": 4,
 "nbformat_minor": 5
}

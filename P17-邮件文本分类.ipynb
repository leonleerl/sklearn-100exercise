{
 "cells": [
  {
   "cell_type": "code",
   "execution_count": null,
   "id": "1f8e18ee-f51c-4e5c-bdc3-38cd5d87a6cc",
   "metadata": {},
   "outputs": [],
   "source": []
  }
 ],
 "metadata": {
  "kernelspec": {
   "display_name": "",
   "name": ""
  },
  "language_info": {
   "name": ""
  }
 },
 "nbformat": 4,
 "nbformat_minor": 5
}

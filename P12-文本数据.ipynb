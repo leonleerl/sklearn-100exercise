{
 "cells": [
  {
   "cell_type": "markdown",
   "id": "c841ae62-9c24-48a1-872a-bf7e4fd7018d",
   "metadata": {},
   "source": [
    "# P053 文本数据-CounterVectorizer向量化"
   ]
  },
  {
   "cell_type": "code",
   "execution_count": 3,
   "id": "738b9bb1-01dd-4211-91ce-f854905b8360",
   "metadata": {},
   "outputs": [],
   "source": [
    "import numpy as np\n",
    "import pandas as pd"
   ]
  },
  {
   "cell_type": "code",
   "execution_count": 5,
   "id": "259dcfb7-5ae3-4d9f-b69e-c13e34d013d4",
   "metadata": {},
   "outputs": [],
   "source": [
    "from sklearn.feature_extraction.text import CountVectorizer"
   ]
  },
  {
   "cell_type": "code",
   "execution_count": 7,
   "id": "5bd44356-f50b-451b-b914-d45b8330a1bc",
   "metadata": {},
   "outputs": [],
   "source": [
    "documents = [\n",
    "    'python is a programming language',\n",
    "    'python is popular',\n",
    "    'programming in python',\n",
    "    'object-oriented programming in python'\n",
    "]"
   ]
  },
  {
   "cell_type": "code",
   "execution_count": 9,
   "id": "49c0a005-d985-435d-a7b8-438d3dc8ddf9",
   "metadata": {},
   "outputs": [],
   "source": [
    "vectorizer = CountVectorizer()"
   ]
  },
  {
   "cell_type": "code",
   "execution_count": 11,
   "id": "85853d23-9266-43e7-8dec-805a26a79141",
   "metadata": {},
   "outputs": [
    {
     "data": {
      "text/plain": [
       "<4x8 sparse matrix of type '<class 'numpy.int64'>'\n",
       "\twith 15 stored elements in Compressed Sparse Row format>"
      ]
     },
     "execution_count": 11,
     "metadata": {},
     "output_type": "execute_result"
    }
   ],
   "source": [
    "vectorizer.fit_transform(documents)"
   ]
  },
  {
   "cell_type": "code",
   "execution_count": 15,
   "id": "cd1190b0-b3b4-4994-9491-b518b4cf9f05",
   "metadata": {},
   "outputs": [],
   "source": [
    "df = pd.DataFrame(\n",
    "    vectorizer.fit_transform(documents).toarray(),\n",
    "    columns = vectorizer.get_feature_names_out()\n",
    ")"
   ]
  },
  {
   "cell_type": "code",
   "execution_count": 17,
   "id": "23b740fc-d24a-4be8-afe3-874cd71167dc",
   "metadata": {},
   "outputs": [
    {
     "data": {
      "text/html": [
       "<div>\n",
       "<style scoped>\n",
       "    .dataframe tbody tr th:only-of-type {\n",
       "        vertical-align: middle;\n",
       "    }\n",
       "\n",
       "    .dataframe tbody tr th {\n",
       "        vertical-align: top;\n",
       "    }\n",
       "\n",
       "    .dataframe thead th {\n",
       "        text-align: right;\n",
       "    }\n",
       "</style>\n",
       "<table border=\"1\" class=\"dataframe\">\n",
       "  <thead>\n",
       "    <tr style=\"text-align: right;\">\n",
       "      <th></th>\n",
       "      <th>in</th>\n",
       "      <th>is</th>\n",
       "      <th>language</th>\n",
       "      <th>object</th>\n",
       "      <th>oriented</th>\n",
       "      <th>popular</th>\n",
       "      <th>programming</th>\n",
       "      <th>python</th>\n",
       "    </tr>\n",
       "  </thead>\n",
       "  <tbody>\n",
       "    <tr>\n",
       "      <th>0</th>\n",
       "      <td>0</td>\n",
       "      <td>1</td>\n",
       "      <td>1</td>\n",
       "      <td>0</td>\n",
       "      <td>0</td>\n",
       "      <td>0</td>\n",
       "      <td>1</td>\n",
       "      <td>1</td>\n",
       "    </tr>\n",
       "    <tr>\n",
       "      <th>1</th>\n",
       "      <td>0</td>\n",
       "      <td>1</td>\n",
       "      <td>0</td>\n",
       "      <td>0</td>\n",
       "      <td>0</td>\n",
       "      <td>1</td>\n",
       "      <td>0</td>\n",
       "      <td>1</td>\n",
       "    </tr>\n",
       "    <tr>\n",
       "      <th>2</th>\n",
       "      <td>1</td>\n",
       "      <td>0</td>\n",
       "      <td>0</td>\n",
       "      <td>0</td>\n",
       "      <td>0</td>\n",
       "      <td>0</td>\n",
       "      <td>1</td>\n",
       "      <td>1</td>\n",
       "    </tr>\n",
       "    <tr>\n",
       "      <th>3</th>\n",
       "      <td>1</td>\n",
       "      <td>0</td>\n",
       "      <td>0</td>\n",
       "      <td>1</td>\n",
       "      <td>1</td>\n",
       "      <td>0</td>\n",
       "      <td>1</td>\n",
       "      <td>1</td>\n",
       "    </tr>\n",
       "  </tbody>\n",
       "</table>\n",
       "</div>"
      ],
      "text/plain": [
       "   in  is  language  object  oriented  popular  programming  python\n",
       "0   0   1         1       0         0        0            1       1\n",
       "1   0   1         0       0         0        1            0       1\n",
       "2   1   0         0       0         0        0            1       1\n",
       "3   1   0         0       1         1        0            1       1"
      ]
     },
     "execution_count": 17,
     "metadata": {},
     "output_type": "execute_result"
    }
   ],
   "source": [
    "df"
   ]
  },
  {
   "cell_type": "markdown",
   "id": "a5f0ece5-2bda-4674-871c-1506280649b9",
   "metadata": {},
   "source": [
    "# P054 文本数据-计数向量化并配置停用词"
   ]
  },
  {
   "cell_type": "code",
   "execution_count": 20,
   "id": "924380e4-3e1c-4af4-93c1-47c333683961",
   "metadata": {},
   "outputs": [],
   "source": [
    "# 问题：配置english，即使用内置的英语停用词列表，去除停用词"
   ]
  },
  {
   "cell_type": "code",
   "execution_count": 22,
   "id": "b48ebf39-cc48-4038-9650-3c1d9cbf7f6f",
   "metadata": {},
   "outputs": [],
   "source": [
    "vectorizer = CountVectorizer(stop_words='english')"
   ]
  },
  {
   "cell_type": "code",
   "execution_count": 24,
   "id": "45d8b57b-1de2-4a1c-aec8-327ab5696993",
   "metadata": {},
   "outputs": [
    {
     "data": {
      "text/html": [
       "<div>\n",
       "<style scoped>\n",
       "    .dataframe tbody tr th:only-of-type {\n",
       "        vertical-align: middle;\n",
       "    }\n",
       "\n",
       "    .dataframe tbody tr th {\n",
       "        vertical-align: top;\n",
       "    }\n",
       "\n",
       "    .dataframe thead th {\n",
       "        text-align: right;\n",
       "    }\n",
       "</style>\n",
       "<table border=\"1\" class=\"dataframe\">\n",
       "  <thead>\n",
       "    <tr style=\"text-align: right;\">\n",
       "      <th></th>\n",
       "      <th>language</th>\n",
       "      <th>object</th>\n",
       "      <th>oriented</th>\n",
       "      <th>popular</th>\n",
       "      <th>programming</th>\n",
       "      <th>python</th>\n",
       "    </tr>\n",
       "  </thead>\n",
       "  <tbody>\n",
       "    <tr>\n",
       "      <th>0</th>\n",
       "      <td>1</td>\n",
       "      <td>0</td>\n",
       "      <td>0</td>\n",
       "      <td>0</td>\n",
       "      <td>1</td>\n",
       "      <td>1</td>\n",
       "    </tr>\n",
       "    <tr>\n",
       "      <th>1</th>\n",
       "      <td>0</td>\n",
       "      <td>0</td>\n",
       "      <td>0</td>\n",
       "      <td>1</td>\n",
       "      <td>0</td>\n",
       "      <td>1</td>\n",
       "    </tr>\n",
       "    <tr>\n",
       "      <th>2</th>\n",
       "      <td>0</td>\n",
       "      <td>0</td>\n",
       "      <td>0</td>\n",
       "      <td>0</td>\n",
       "      <td>1</td>\n",
       "      <td>1</td>\n",
       "    </tr>\n",
       "    <tr>\n",
       "      <th>3</th>\n",
       "      <td>0</td>\n",
       "      <td>1</td>\n",
       "      <td>1</td>\n",
       "      <td>0</td>\n",
       "      <td>1</td>\n",
       "      <td>1</td>\n",
       "    </tr>\n",
       "  </tbody>\n",
       "</table>\n",
       "</div>"
      ],
      "text/plain": [
       "   language  object  oriented  popular  programming  python\n",
       "0         1       0         0        0            1       1\n",
       "1         0       0         0        1            0       1\n",
       "2         0       0         0        0            1       1\n",
       "3         0       1         1        0            1       1"
      ]
     },
     "execution_count": 24,
     "metadata": {},
     "output_type": "execute_result"
    }
   ],
   "source": [
    "df = pd.DataFrame(\n",
    "    vectorizer.fit_transform(documents).toarray(),\n",
    "    columns = vectorizer.get_feature_names_out()\n",
    ")\n",
    "df"
   ]
  },
  {
   "cell_type": "markdown",
   "id": "39981775-4eb0-4629-898e-591b7c653381",
   "metadata": {},
   "source": [
    "# P055 文本数据-计数向量化并配置n-gram"
   ]
  },
  {
   "cell_type": "code",
   "execution_count": 29,
   "id": "10c7b882-bb23-4ec7-b491-cde15a301e8c",
   "metadata": {},
   "outputs": [],
   "source": [
    "# n-gram是一种基于统计语言模型的算法。基本思想是将文本里面的内容按照字节进行大小为n的滑动窗口操作，形成了长度是n的字节片段序列"
   ]
  },
  {
   "cell_type": "code",
   "execution_count": 33,
   "id": "2c653970-be85-4b6c-9a52-4700b357c7af",
   "metadata": {},
   "outputs": [],
   "source": [
    "vectorizer = CountVectorizer(stop_words='english', ngram_range=(1, 2))"
   ]
  },
  {
   "cell_type": "code",
   "execution_count": 35,
   "id": "88d1039d-5b53-44e2-afa4-8c37d3c23687",
   "metadata": {},
   "outputs": [
    {
     "data": {
      "text/html": [
       "<div>\n",
       "<style scoped>\n",
       "    .dataframe tbody tr th:only-of-type {\n",
       "        vertical-align: middle;\n",
       "    }\n",
       "\n",
       "    .dataframe tbody tr th {\n",
       "        vertical-align: top;\n",
       "    }\n",
       "\n",
       "    .dataframe thead th {\n",
       "        text-align: right;\n",
       "    }\n",
       "</style>\n",
       "<table border=\"1\" class=\"dataframe\">\n",
       "  <thead>\n",
       "    <tr style=\"text-align: right;\">\n",
       "      <th></th>\n",
       "      <th>language</th>\n",
       "      <th>object</th>\n",
       "      <th>object oriented</th>\n",
       "      <th>oriented</th>\n",
       "      <th>oriented programming</th>\n",
       "      <th>popular</th>\n",
       "      <th>programming</th>\n",
       "      <th>programming language</th>\n",
       "      <th>programming python</th>\n",
       "      <th>python</th>\n",
       "      <th>python popular</th>\n",
       "      <th>python programming</th>\n",
       "    </tr>\n",
       "  </thead>\n",
       "  <tbody>\n",
       "    <tr>\n",
       "      <th>0</th>\n",
       "      <td>1</td>\n",
       "      <td>0</td>\n",
       "      <td>0</td>\n",
       "      <td>0</td>\n",
       "      <td>0</td>\n",
       "      <td>0</td>\n",
       "      <td>1</td>\n",
       "      <td>1</td>\n",
       "      <td>0</td>\n",
       "      <td>1</td>\n",
       "      <td>0</td>\n",
       "      <td>1</td>\n",
       "    </tr>\n",
       "    <tr>\n",
       "      <th>1</th>\n",
       "      <td>0</td>\n",
       "      <td>0</td>\n",
       "      <td>0</td>\n",
       "      <td>0</td>\n",
       "      <td>0</td>\n",
       "      <td>1</td>\n",
       "      <td>0</td>\n",
       "      <td>0</td>\n",
       "      <td>0</td>\n",
       "      <td>1</td>\n",
       "      <td>1</td>\n",
       "      <td>0</td>\n",
       "    </tr>\n",
       "    <tr>\n",
       "      <th>2</th>\n",
       "      <td>0</td>\n",
       "      <td>0</td>\n",
       "      <td>0</td>\n",
       "      <td>0</td>\n",
       "      <td>0</td>\n",
       "      <td>0</td>\n",
       "      <td>1</td>\n",
       "      <td>0</td>\n",
       "      <td>1</td>\n",
       "      <td>1</td>\n",
       "      <td>0</td>\n",
       "      <td>0</td>\n",
       "    </tr>\n",
       "    <tr>\n",
       "      <th>3</th>\n",
       "      <td>0</td>\n",
       "      <td>1</td>\n",
       "      <td>1</td>\n",
       "      <td>1</td>\n",
       "      <td>1</td>\n",
       "      <td>0</td>\n",
       "      <td>1</td>\n",
       "      <td>0</td>\n",
       "      <td>1</td>\n",
       "      <td>1</td>\n",
       "      <td>0</td>\n",
       "      <td>0</td>\n",
       "    </tr>\n",
       "  </tbody>\n",
       "</table>\n",
       "</div>"
      ],
      "text/plain": [
       "   language  object  object oriented  oriented  oriented programming  popular  \\\n",
       "0         1       0                0         0                     0        0   \n",
       "1         0       0                0         0                     0        1   \n",
       "2         0       0                0         0                     0        0   \n",
       "3         0       1                1         1                     1        0   \n",
       "\n",
       "   programming  programming language  programming python  python  \\\n",
       "0            1                     1                   0       1   \n",
       "1            0                     0                   0       1   \n",
       "2            1                     0                   1       1   \n",
       "3            1                     0                   1       1   \n",
       "\n",
       "   python popular  python programming  \n",
       "0               0                   1  \n",
       "1               1                   0  \n",
       "2               0                   0  \n",
       "3               0                   0  "
      ]
     },
     "execution_count": 35,
     "metadata": {},
     "output_type": "execute_result"
    }
   ],
   "source": [
    "df = pd.DataFrame(\n",
    "    vectorizer.fit_transform(documents).toarray(),\n",
    "    columns = vectorizer.get_feature_names_out()\n",
    ")\n",
    "df"
   ]
  },
  {
   "cell_type": "markdown",
   "id": "9da44b67-7d76-4a82-85c8-75b1f16fd4e0",
   "metadata": {},
   "source": [
    "# P056 文本数据-TFIDF实现文本向量化"
   ]
  },
  {
   "cell_type": "code",
   "execution_count": 38,
   "id": "06dae5ee-0a5f-44f3-9778-e343188a0375",
   "metadata": {},
   "outputs": [],
   "source": [
    "# TF-IDF(term frequency-inverse document frequency)是一种用于信息检索与数据挖掘的常用加权技术。\n",
    "# TF是词频（Term Frequency），IDF是逆文本频率指数（Inverse Document Frequency）"
   ]
  },
  {
   "cell_type": "code",
   "execution_count": 40,
   "id": "87d786b5-11bc-410c-ab72-fccf876eaa1d",
   "metadata": {},
   "outputs": [],
   "source": [
    "import numpy as np\n",
    "import pandas as pd\n",
    "from sklearn.feature_extraction.text import TfidfVectorizer"
   ]
  },
  {
   "cell_type": "code",
   "execution_count": 42,
   "id": "ea576ce1-7c4d-401b-b436-11dc6e9d05ad",
   "metadata": {},
   "outputs": [],
   "source": [
    "documents = [\n",
    "    'python is a programming language',\n",
    "    'python is popular',\n",
    "    'programming in python',\n",
    "    'object-oriented programming in python'\n",
    "]"
   ]
  },
  {
   "cell_type": "code",
   "execution_count": 44,
   "id": "bfaa8588-5a5e-47c7-a8f8-9ec1e67b826a",
   "metadata": {},
   "outputs": [],
   "source": [
    "tfidf_vectorizer = TfidfVectorizer()"
   ]
  },
  {
   "cell_type": "code",
   "execution_count": 46,
   "id": "e41a3783-a449-4ada-98bf-bd48def1a433",
   "metadata": {},
   "outputs": [],
   "source": [
    "df = pd.DataFrame(\n",
    "    data = tfidf_vectorizer.fit_transform(documents).toarray(),\n",
    "    columns = tfidf_vectorizer.get_feature_names_out()\n",
    ")"
   ]
  },
  {
   "cell_type": "code",
   "execution_count": 48,
   "id": "a8070897-a076-4b67-b9a3-e7fac6cd7c69",
   "metadata": {},
   "outputs": [
    {
     "data": {
      "text/html": [
       "<div>\n",
       "<style scoped>\n",
       "    .dataframe tbody tr th:only-of-type {\n",
       "        vertical-align: middle;\n",
       "    }\n",
       "\n",
       "    .dataframe tbody tr th {\n",
       "        vertical-align: top;\n",
       "    }\n",
       "\n",
       "    .dataframe thead th {\n",
       "        text-align: right;\n",
       "    }\n",
       "</style>\n",
       "<table border=\"1\" class=\"dataframe\">\n",
       "  <thead>\n",
       "    <tr style=\"text-align: right;\">\n",
       "      <th></th>\n",
       "      <th>in</th>\n",
       "      <th>is</th>\n",
       "      <th>language</th>\n",
       "      <th>object</th>\n",
       "      <th>oriented</th>\n",
       "      <th>popular</th>\n",
       "      <th>programming</th>\n",
       "      <th>python</th>\n",
       "    </tr>\n",
       "  </thead>\n",
       "  <tbody>\n",
       "    <tr>\n",
       "      <th>0</th>\n",
       "      <td>0.000000</td>\n",
       "      <td>0.519714</td>\n",
       "      <td>0.659191</td>\n",
       "      <td>0.000000</td>\n",
       "      <td>0.000000</td>\n",
       "      <td>0.000000</td>\n",
       "      <td>0.420753</td>\n",
       "      <td>0.343993</td>\n",
       "    </tr>\n",
       "    <tr>\n",
       "      <th>1</th>\n",
       "      <td>0.000000</td>\n",
       "      <td>0.572892</td>\n",
       "      <td>0.000000</td>\n",
       "      <td>0.000000</td>\n",
       "      <td>0.000000</td>\n",
       "      <td>0.726641</td>\n",
       "      <td>0.000000</td>\n",
       "      <td>0.379192</td>\n",
       "    </tr>\n",
       "    <tr>\n",
       "      <th>2</th>\n",
       "      <td>0.691131</td>\n",
       "      <td>0.000000</td>\n",
       "      <td>0.000000</td>\n",
       "      <td>0.000000</td>\n",
       "      <td>0.000000</td>\n",
       "      <td>0.000000</td>\n",
       "      <td>0.559530</td>\n",
       "      <td>0.457453</td>\n",
       "    </tr>\n",
       "    <tr>\n",
       "      <th>3</th>\n",
       "      <td>0.433919</td>\n",
       "      <td>0.000000</td>\n",
       "      <td>0.000000</td>\n",
       "      <td>0.550372</td>\n",
       "      <td>0.550372</td>\n",
       "      <td>0.000000</td>\n",
       "      <td>0.351295</td>\n",
       "      <td>0.287207</td>\n",
       "    </tr>\n",
       "  </tbody>\n",
       "</table>\n",
       "</div>"
      ],
      "text/plain": [
       "         in        is  language    object  oriented   popular  programming  \\\n",
       "0  0.000000  0.519714  0.659191  0.000000  0.000000  0.000000     0.420753   \n",
       "1  0.000000  0.572892  0.000000  0.000000  0.000000  0.726641     0.000000   \n",
       "2  0.691131  0.000000  0.000000  0.000000  0.000000  0.000000     0.559530   \n",
       "3  0.433919  0.000000  0.000000  0.550372  0.550372  0.000000     0.351295   \n",
       "\n",
       "     python  \n",
       "0  0.343993  \n",
       "1  0.379192  \n",
       "2  0.457453  \n",
       "3  0.287207  "
      ]
     },
     "execution_count": 48,
     "metadata": {},
     "output_type": "execute_result"
    }
   ],
   "source": [
    "df"
   ]
  },
  {
   "cell_type": "markdown",
   "id": "a54c84e2-4529-4c2e-af6f-a894f0e67d20",
   "metadata": {},
   "source": [
    "# P057 文本数据-TFIDF向量化增加停用词"
   ]
  },
  {
   "cell_type": "code",
   "execution_count": 51,
   "id": "b9d051c3-eed8-4d8b-a6d1-231b45b8a1df",
   "metadata": {},
   "outputs": [],
   "source": [
    "tfidf_vectorizer = TfidfVectorizer(stop_words=['is', 'in'])"
   ]
  },
  {
   "cell_type": "code",
   "execution_count": 53,
   "id": "14b1a872-dbc0-40cf-ae5b-c40d2f598a0f",
   "metadata": {},
   "outputs": [],
   "source": [
    "df = pd.DataFrame(\n",
    "    data = tfidf_vectorizer.fit_transform(documents).toarray(),\n",
    "    columns = tfidf_vectorizer.get_feature_names_out()\n",
    ")"
   ]
  },
  {
   "cell_type": "code",
   "execution_count": 55,
   "id": "71768efe-8a01-47a3-8fb5-fdd987157ccc",
   "metadata": {},
   "outputs": [
    {
     "data": {
      "text/html": [
       "<div>\n",
       "<style scoped>\n",
       "    .dataframe tbody tr th:only-of-type {\n",
       "        vertical-align: middle;\n",
       "    }\n",
       "\n",
       "    .dataframe tbody tr th {\n",
       "        vertical-align: top;\n",
       "    }\n",
       "\n",
       "    .dataframe thead th {\n",
       "        text-align: right;\n",
       "    }\n",
       "</style>\n",
       "<table border=\"1\" class=\"dataframe\">\n",
       "  <thead>\n",
       "    <tr style=\"text-align: right;\">\n",
       "      <th></th>\n",
       "      <th>language</th>\n",
       "      <th>object</th>\n",
       "      <th>oriented</th>\n",
       "      <th>popular</th>\n",
       "      <th>programming</th>\n",
       "      <th>python</th>\n",
       "    </tr>\n",
       "  </thead>\n",
       "  <tbody>\n",
       "    <tr>\n",
       "      <th>0</th>\n",
       "      <td>0.771579</td>\n",
       "      <td>0.000000</td>\n",
       "      <td>0.000000</td>\n",
       "      <td>0.000000</td>\n",
       "      <td>0.492489</td>\n",
       "      <td>0.402642</td>\n",
       "    </tr>\n",
       "    <tr>\n",
       "      <th>1</th>\n",
       "      <td>0.000000</td>\n",
       "      <td>0.000000</td>\n",
       "      <td>0.000000</td>\n",
       "      <td>0.886548</td>\n",
       "      <td>0.000000</td>\n",
       "      <td>0.462637</td>\n",
       "    </tr>\n",
       "    <tr>\n",
       "      <th>2</th>\n",
       "      <td>0.000000</td>\n",
       "      <td>0.000000</td>\n",
       "      <td>0.000000</td>\n",
       "      <td>0.000000</td>\n",
       "      <td>0.774191</td>\n",
       "      <td>0.632952</td>\n",
       "    </tr>\n",
       "    <tr>\n",
       "      <th>3</th>\n",
       "      <td>0.000000</td>\n",
       "      <td>0.610878</td>\n",
       "      <td>0.610878</td>\n",
       "      <td>0.000000</td>\n",
       "      <td>0.389916</td>\n",
       "      <td>0.318782</td>\n",
       "    </tr>\n",
       "  </tbody>\n",
       "</table>\n",
       "</div>"
      ],
      "text/plain": [
       "   language    object  oriented   popular  programming    python\n",
       "0  0.771579  0.000000  0.000000  0.000000     0.492489  0.402642\n",
       "1  0.000000  0.000000  0.000000  0.886548     0.000000  0.462637\n",
       "2  0.000000  0.000000  0.000000  0.000000     0.774191  0.632952\n",
       "3  0.000000  0.610878  0.610878  0.000000     0.389916  0.318782"
      ]
     },
     "execution_count": 55,
     "metadata": {},
     "output_type": "execute_result"
    }
   ],
   "source": [
    "df"
   ]
  },
  {
   "cell_type": "code",
   "execution_count": null,
   "id": "2c6b248a-a323-4316-94ef-7defc3faef07",
   "metadata": {},
   "outputs": [],
   "source": []
  },
  {
   "cell_type": "code",
   "execution_count": null,
   "id": "68aabbf5-b851-47c8-abb6-d7c252c4982f",
   "metadata": {},
   "outputs": [],
   "source": []
  },
  {
   "cell_type": "code",
   "execution_count": null,
   "id": "ca7dd8a1-bb59-4f73-8c95-7836f1e3a7a5",
   "metadata": {},
   "outputs": [],
   "source": []
  },
  {
   "cell_type": "code",
   "execution_count": null,
   "id": "0c554910-136e-4c71-9151-2e1602dec85c",
   "metadata": {},
   "outputs": [],
   "source": []
  },
  {
   "cell_type": "code",
   "execution_count": null,
   "id": "8ea0891d-6348-4d69-822b-6dd221c271ba",
   "metadata": {},
   "outputs": [],
   "source": []
  },
  {
   "cell_type": "code",
   "execution_count": null,
   "id": "e1a0282a-0425-430f-97fd-532a9e404bbb",
   "metadata": {},
   "outputs": [],
   "source": []
  },
  {
   "cell_type": "code",
   "execution_count": null,
   "id": "fbe8c84a-c908-4d62-a6d1-d3cf4fdff853",
   "metadata": {},
   "outputs": [],
   "source": []
  },
  {
   "cell_type": "code",
   "execution_count": null,
   "id": "f3c69b36-51e3-46eb-b89f-4eba1dcf9dc9",
   "metadata": {},
   "outputs": [],
   "source": []
  },
  {
   "cell_type": "code",
   "execution_count": null,
   "id": "60a1c610-73b4-4c6a-8fcc-6e64692c2cbc",
   "metadata": {},
   "outputs": [],
   "source": []
  }
 ],
 "metadata": {
  "kernelspec": {
   "display_name": "Python [conda env:base] *",
   "language": "python",
   "name": "conda-base-py"
  },
  "language_info": {
   "codemirror_mode": {
    "name": "ipython",
    "version": 3
   },
   "file_extension": ".py",
   "mimetype": "text/x-python",
   "name": "python",
   "nbconvert_exporter": "python",
   "pygments_lexer": "ipython3",
   "version": "3.12.7"
  }
 },
 "nbformat": 4,
 "nbformat_minor": 5
}

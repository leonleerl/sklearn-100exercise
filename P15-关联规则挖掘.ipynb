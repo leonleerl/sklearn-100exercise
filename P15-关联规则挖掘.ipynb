{
 "cells": [
  {
   "cell_type": "markdown",
   "id": "a1cc7303-3c81-4d3e-b6cf-5b1d56ff73c0",
   "metadata": {},
   "source": [
    "# P073 关联规则挖掘-购物篮数据拆分"
   ]
  },
  {
   "cell_type": "code",
   "execution_count": 2,
   "id": "2048899c-3461-4f69-a463-2d78ff540501",
   "metadata": {},
   "outputs": [],
   "source": [
    "# 关联分析是指从大量数据中发现数据之间有趣的关联\n",
    "# 典型例子“购物篮分析”。67%的顾客会在购买啤酒的同时购买尿布。因此通过合理的啤酒和尿布货架摆放或捆绑销售可以提高超市的服务质量的效益"
   ]
  },
  {
   "cell_type": "code",
   "execution_count": 4,
   "id": "43b218c7-8992-48ed-b029-327fd0509600",
   "metadata": {},
   "outputs": [],
   "source": [
    "import numpy as np\n",
    "import pandas as pd"
   ]
  },
  {
   "cell_type": "code",
   "execution_count": 6,
   "id": "b7b1c6a4-396f-4153-abda-d0b5c254258e",
   "metadata": {},
   "outputs": [],
   "source": [
    "data = {\n",
    "    'products': [\n",
    "        'bread eggs',\n",
    "        'bread eggs milk',\n",
    "        'milk cheese',\n",
    "        'bread butter cheese',\n",
    "        'eggs milk',\n",
    "        'bread milk butter cheese'\n",
    "    ]\n",
    "}"
   ]
  },
  {
   "cell_type": "code",
   "execution_count": 8,
   "id": "efd95933-96f7-4c31-8248-ccc2c122be15",
   "metadata": {},
   "outputs": [
    {
     "data": {
      "text/plain": [
       "{'products': ['bread eggs',\n",
       "  'bread eggs milk',\n",
       "  'milk cheese',\n",
       "  'bread butter cheese',\n",
       "  'eggs milk',\n",
       "  'bread milk butter cheese']}"
      ]
     },
     "execution_count": 8,
     "metadata": {},
     "output_type": "execute_result"
    }
   ],
   "source": [
    "data"
   ]
  },
  {
   "cell_type": "code",
   "execution_count": 10,
   "id": "1015fa41-5c1d-45b7-a2cc-5f1b23833205",
   "metadata": {},
   "outputs": [],
   "source": [
    "transactions = pd.DataFrame(data=data, index=range(1,7))"
   ]
  },
  {
   "cell_type": "code",
   "execution_count": 12,
   "id": "68a722f4-0041-45f0-b6ee-fcc0345390cd",
   "metadata": {},
   "outputs": [
    {
     "data": {
      "text/html": [
       "<div>\n",
       "<style scoped>\n",
       "    .dataframe tbody tr th:only-of-type {\n",
       "        vertical-align: middle;\n",
       "    }\n",
       "\n",
       "    .dataframe tbody tr th {\n",
       "        vertical-align: top;\n",
       "    }\n",
       "\n",
       "    .dataframe thead th {\n",
       "        text-align: right;\n",
       "    }\n",
       "</style>\n",
       "<table border=\"1\" class=\"dataframe\">\n",
       "  <thead>\n",
       "    <tr style=\"text-align: right;\">\n",
       "      <th></th>\n",
       "      <th>products</th>\n",
       "    </tr>\n",
       "  </thead>\n",
       "  <tbody>\n",
       "    <tr>\n",
       "      <th>1</th>\n",
       "      <td>bread eggs</td>\n",
       "    </tr>\n",
       "    <tr>\n",
       "      <th>2</th>\n",
       "      <td>bread eggs milk</td>\n",
       "    </tr>\n",
       "    <tr>\n",
       "      <th>3</th>\n",
       "      <td>milk cheese</td>\n",
       "    </tr>\n",
       "    <tr>\n",
       "      <th>4</th>\n",
       "      <td>bread butter cheese</td>\n",
       "    </tr>\n",
       "    <tr>\n",
       "      <th>5</th>\n",
       "      <td>eggs milk</td>\n",
       "    </tr>\n",
       "    <tr>\n",
       "      <th>6</th>\n",
       "      <td>bread milk butter cheese</td>\n",
       "    </tr>\n",
       "  </tbody>\n",
       "</table>\n",
       "</div>"
      ],
      "text/plain": [
       "                   products\n",
       "1                bread eggs\n",
       "2           bread eggs milk\n",
       "3               milk cheese\n",
       "4       bread butter cheese\n",
       "5                 eggs milk\n",
       "6  bread milk butter cheese"
      ]
     },
     "execution_count": 12,
     "metadata": {},
     "output_type": "execute_result"
    }
   ],
   "source": [
    "transactions"
   ]
  },
  {
   "cell_type": "code",
   "execution_count": 14,
   "id": "d192f47d-52a6-4a5c-98a3-56fd04da8661",
   "metadata": {},
   "outputs": [],
   "source": [
    "expanded = transactions[\"products\"].str.split(expand=True)"
   ]
  },
  {
   "cell_type": "code",
   "execution_count": 16,
   "id": "7e6e2771-3d09-4e26-8706-feb2e373f662",
   "metadata": {},
   "outputs": [
    {
     "data": {
      "text/html": [
       "<div>\n",
       "<style scoped>\n",
       "    .dataframe tbody tr th:only-of-type {\n",
       "        vertical-align: middle;\n",
       "    }\n",
       "\n",
       "    .dataframe tbody tr th {\n",
       "        vertical-align: top;\n",
       "    }\n",
       "\n",
       "    .dataframe thead th {\n",
       "        text-align: right;\n",
       "    }\n",
       "</style>\n",
       "<table border=\"1\" class=\"dataframe\">\n",
       "  <thead>\n",
       "    <tr style=\"text-align: right;\">\n",
       "      <th></th>\n",
       "      <th>0</th>\n",
       "      <th>1</th>\n",
       "      <th>2</th>\n",
       "      <th>3</th>\n",
       "    </tr>\n",
       "  </thead>\n",
       "  <tbody>\n",
       "    <tr>\n",
       "      <th>1</th>\n",
       "      <td>bread</td>\n",
       "      <td>eggs</td>\n",
       "      <td>None</td>\n",
       "      <td>None</td>\n",
       "    </tr>\n",
       "    <tr>\n",
       "      <th>2</th>\n",
       "      <td>bread</td>\n",
       "      <td>eggs</td>\n",
       "      <td>milk</td>\n",
       "      <td>None</td>\n",
       "    </tr>\n",
       "    <tr>\n",
       "      <th>3</th>\n",
       "      <td>milk</td>\n",
       "      <td>cheese</td>\n",
       "      <td>None</td>\n",
       "      <td>None</td>\n",
       "    </tr>\n",
       "    <tr>\n",
       "      <th>4</th>\n",
       "      <td>bread</td>\n",
       "      <td>butter</td>\n",
       "      <td>cheese</td>\n",
       "      <td>None</td>\n",
       "    </tr>\n",
       "    <tr>\n",
       "      <th>5</th>\n",
       "      <td>eggs</td>\n",
       "      <td>milk</td>\n",
       "      <td>None</td>\n",
       "      <td>None</td>\n",
       "    </tr>\n",
       "    <tr>\n",
       "      <th>6</th>\n",
       "      <td>bread</td>\n",
       "      <td>milk</td>\n",
       "      <td>butter</td>\n",
       "      <td>cheese</td>\n",
       "    </tr>\n",
       "  </tbody>\n",
       "</table>\n",
       "</div>"
      ],
      "text/plain": [
       "       0       1       2       3\n",
       "1  bread    eggs    None    None\n",
       "2  bread    eggs    milk    None\n",
       "3   milk  cheese    None    None\n",
       "4  bread  butter  cheese    None\n",
       "5   eggs    milk    None    None\n",
       "6  bread    milk  butter  cheese"
      ]
     },
     "execution_count": 16,
     "metadata": {},
     "output_type": "execute_result"
    }
   ],
   "source": [
    "expanded"
   ]
  },
  {
   "cell_type": "markdown",
   "id": "b7faf5b5-9ab5-4e35-a250-332162f3713a",
   "metadata": {},
   "source": [
    "# P074 关联规则挖掘-计算购买商品的去重列表"
   ]
  },
  {
   "cell_type": "code",
   "execution_count": 20,
   "id": "72be324e-256b-41d5-a594-0c20e6dc9e6e",
   "metadata": {},
   "outputs": [],
   "source": [
    "products = set()"
   ]
  },
  {
   "cell_type": "code",
   "execution_count": 24,
   "id": "a03b9a2b-080c-4bd0-afe3-eb7896f01566",
   "metadata": {},
   "outputs": [],
   "source": [
    "for column in expanded.columns:\n",
    "    for product in expanded[column].unique():\n",
    "        if product:\n",
    "            products.add(product)"
   ]
  },
  {
   "cell_type": "code",
   "execution_count": 26,
   "id": "e00586f9-7920-4fce-ac9f-980ffe7f7996",
   "metadata": {},
   "outputs": [
    {
     "data": {
      "text/plain": [
       "{'bread', 'butter', 'cheese', 'eggs', 'milk'}"
      ]
     },
     "execution_count": 26,
     "metadata": {},
     "output_type": "execute_result"
    }
   ],
   "source": [
    "products"
   ]
  },
  {
   "cell_type": "code",
   "execution_count": 28,
   "id": "98135adf-59bf-40b7-b6f7-a5da7f64fd51",
   "metadata": {},
   "outputs": [],
   "source": [
    "products = sorted(list(products))"
   ]
  },
  {
   "cell_type": "code",
   "execution_count": 30,
   "id": "04fe55c5-303c-41dc-8561-38965ffd700c",
   "metadata": {},
   "outputs": [
    {
     "data": {
      "text/plain": [
       "['bread', 'butter', 'cheese', 'eggs', 'milk']"
      ]
     },
     "execution_count": 30,
     "metadata": {},
     "output_type": "execute_result"
    }
   ],
   "source": [
    "products"
   ]
  },
  {
   "cell_type": "markdown",
   "id": "ac1e5a2d-ce2f-45b6-9d90-e2adc3f09e7d",
   "metadata": {},
   "source": [
    "# P075 关联规则挖掘-实现one-hot编码"
   ]
  },
  {
   "cell_type": "code",
   "execution_count": 33,
   "id": "5000bfd0-0022-4639-a5ee-e0f0b5d763d8",
   "metadata": {},
   "outputs": [
    {
     "data": {
      "text/html": [
       "<div>\n",
       "<style scoped>\n",
       "    .dataframe tbody tr th:only-of-type {\n",
       "        vertical-align: middle;\n",
       "    }\n",
       "\n",
       "    .dataframe tbody tr th {\n",
       "        vertical-align: top;\n",
       "    }\n",
       "\n",
       "    .dataframe thead th {\n",
       "        text-align: right;\n",
       "    }\n",
       "</style>\n",
       "<table border=\"1\" class=\"dataframe\">\n",
       "  <thead>\n",
       "    <tr style=\"text-align: right;\">\n",
       "      <th></th>\n",
       "      <th>0</th>\n",
       "      <th>1</th>\n",
       "      <th>2</th>\n",
       "      <th>3</th>\n",
       "    </tr>\n",
       "  </thead>\n",
       "  <tbody>\n",
       "    <tr>\n",
       "      <th>1</th>\n",
       "      <td>bread</td>\n",
       "      <td>eggs</td>\n",
       "      <td>None</td>\n",
       "      <td>None</td>\n",
       "    </tr>\n",
       "    <tr>\n",
       "      <th>2</th>\n",
       "      <td>bread</td>\n",
       "      <td>eggs</td>\n",
       "      <td>milk</td>\n",
       "      <td>None</td>\n",
       "    </tr>\n",
       "    <tr>\n",
       "      <th>3</th>\n",
       "      <td>milk</td>\n",
       "      <td>cheese</td>\n",
       "      <td>None</td>\n",
       "      <td>None</td>\n",
       "    </tr>\n",
       "    <tr>\n",
       "      <th>4</th>\n",
       "      <td>bread</td>\n",
       "      <td>butter</td>\n",
       "      <td>cheese</td>\n",
       "      <td>None</td>\n",
       "    </tr>\n",
       "    <tr>\n",
       "      <th>5</th>\n",
       "      <td>eggs</td>\n",
       "      <td>milk</td>\n",
       "      <td>None</td>\n",
       "      <td>None</td>\n",
       "    </tr>\n",
       "    <tr>\n",
       "      <th>6</th>\n",
       "      <td>bread</td>\n",
       "      <td>milk</td>\n",
       "      <td>butter</td>\n",
       "      <td>cheese</td>\n",
       "    </tr>\n",
       "  </tbody>\n",
       "</table>\n",
       "</div>"
      ],
      "text/plain": [
       "       0       1       2       3\n",
       "1  bread    eggs    None    None\n",
       "2  bread    eggs    milk    None\n",
       "3   milk  cheese    None    None\n",
       "4  bread  butter  cheese    None\n",
       "5   eggs    milk    None    None\n",
       "6  bread    milk  butter  cheese"
      ]
     },
     "execution_count": 33,
     "metadata": {},
     "output_type": "execute_result"
    }
   ],
   "source": [
    "expanded"
   ]
  },
  {
   "cell_type": "code",
   "execution_count": 35,
   "id": "d5e50910-055c-4a05-983c-20636a47ed35",
   "metadata": {},
   "outputs": [
    {
     "data": {
      "text/plain": [
       "['bread', 'butter', 'cheese', 'eggs', 'milk']"
      ]
     },
     "execution_count": 35,
     "metadata": {},
     "output_type": "execute_result"
    }
   ],
   "source": [
    "products"
   ]
  },
  {
   "cell_type": "code",
   "execution_count": 37,
   "id": "cdc8952a-9256-4408-828b-7d2563cec528",
   "metadata": {},
   "outputs": [],
   "source": [
    "transactions_encoded = np.zeros(\n",
    "    (len(expanded), len(products)), dtype='int8'\n",
    ")"
   ]
  },
  {
   "cell_type": "code",
   "execution_count": 40,
   "id": "fc21004b-a39a-4e29-b451-9fab9394bcbd",
   "metadata": {},
   "outputs": [
    {
     "data": {
      "text/plain": [
       "array([[0, 0, 0, 0, 0],\n",
       "       [0, 0, 0, 0, 0],\n",
       "       [0, 0, 0, 0, 0],\n",
       "       [0, 0, 0, 0, 0],\n",
       "       [0, 0, 0, 0, 0],\n",
       "       [0, 0, 0, 0, 0]], dtype=int8)"
      ]
     },
     "execution_count": 40,
     "metadata": {},
     "output_type": "execute_result"
    }
   ],
   "source": [
    "transactions_encoded"
   ]
  },
  {
   "cell_type": "code",
   "execution_count": 50,
   "id": "e17b7319-8f7a-4f7e-9ec3-c98a57f3d001",
   "metadata": {},
   "outputs": [],
   "source": [
    "for row in zip(range(len(expanded)), expanded.values):\n",
    "    for index, product in enumerate(products):\n",
    "        if product in row[1]:\n",
    "            transactions_encoded[row[0], index] = 1"
   ]
  },
  {
   "cell_type": "code",
   "execution_count": 52,
   "id": "f93ab2e8-ff9b-4583-855c-a6fa244d3896",
   "metadata": {},
   "outputs": [
    {
     "data": {
      "text/plain": [
       "array([[1, 0, 0, 1, 0],\n",
       "       [1, 0, 0, 1, 1],\n",
       "       [0, 0, 1, 0, 1],\n",
       "       [1, 1, 1, 0, 0],\n",
       "       [0, 0, 0, 1, 1],\n",
       "       [1, 1, 1, 0, 1]], dtype=int8)"
      ]
     },
     "execution_count": 52,
     "metadata": {},
     "output_type": "execute_result"
    }
   ],
   "source": [
    "transactions_encoded"
   ]
  },
  {
   "cell_type": "code",
   "execution_count": 56,
   "id": "54c490e4-3df1-42f5-8db5-eba6bc56a3a9",
   "metadata": {},
   "outputs": [],
   "source": [
    "transactions_encoded_df = pd.DataFrame(\n",
    "    transactions_encoded,\n",
    "    columns=products\n",
    ")"
   ]
  },
  {
   "cell_type": "code",
   "execution_count": 58,
   "id": "982b36ec-66ee-4f86-a714-d03a52f38b03",
   "metadata": {},
   "outputs": [
    {
     "data": {
      "text/html": [
       "<div>\n",
       "<style scoped>\n",
       "    .dataframe tbody tr th:only-of-type {\n",
       "        vertical-align: middle;\n",
       "    }\n",
       "\n",
       "    .dataframe tbody tr th {\n",
       "        vertical-align: top;\n",
       "    }\n",
       "\n",
       "    .dataframe thead th {\n",
       "        text-align: right;\n",
       "    }\n",
       "</style>\n",
       "<table border=\"1\" class=\"dataframe\">\n",
       "  <thead>\n",
       "    <tr style=\"text-align: right;\">\n",
       "      <th></th>\n",
       "      <th>bread</th>\n",
       "      <th>butter</th>\n",
       "      <th>cheese</th>\n",
       "      <th>eggs</th>\n",
       "      <th>milk</th>\n",
       "    </tr>\n",
       "  </thead>\n",
       "  <tbody>\n",
       "    <tr>\n",
       "      <th>0</th>\n",
       "      <td>1</td>\n",
       "      <td>0</td>\n",
       "      <td>0</td>\n",
       "      <td>1</td>\n",
       "      <td>0</td>\n",
       "    </tr>\n",
       "    <tr>\n",
       "      <th>1</th>\n",
       "      <td>1</td>\n",
       "      <td>0</td>\n",
       "      <td>0</td>\n",
       "      <td>1</td>\n",
       "      <td>1</td>\n",
       "    </tr>\n",
       "    <tr>\n",
       "      <th>2</th>\n",
       "      <td>0</td>\n",
       "      <td>0</td>\n",
       "      <td>1</td>\n",
       "      <td>0</td>\n",
       "      <td>1</td>\n",
       "    </tr>\n",
       "    <tr>\n",
       "      <th>3</th>\n",
       "      <td>1</td>\n",
       "      <td>1</td>\n",
       "      <td>1</td>\n",
       "      <td>0</td>\n",
       "      <td>0</td>\n",
       "    </tr>\n",
       "    <tr>\n",
       "      <th>4</th>\n",
       "      <td>0</td>\n",
       "      <td>0</td>\n",
       "      <td>0</td>\n",
       "      <td>1</td>\n",
       "      <td>1</td>\n",
       "    </tr>\n",
       "    <tr>\n",
       "      <th>5</th>\n",
       "      <td>1</td>\n",
       "      <td>1</td>\n",
       "      <td>1</td>\n",
       "      <td>0</td>\n",
       "      <td>1</td>\n",
       "    </tr>\n",
       "  </tbody>\n",
       "</table>\n",
       "</div>"
      ],
      "text/plain": [
       "   bread  butter  cheese  eggs  milk\n",
       "0      1       0       0     1     0\n",
       "1      1       0       0     1     1\n",
       "2      0       0       1     0     1\n",
       "3      1       1       1     0     0\n",
       "4      0       0       0     1     1\n",
       "5      1       1       1     0     1"
      ]
     },
     "execution_count": 58,
     "metadata": {},
     "output_type": "execute_result"
    }
   ],
   "source": [
    "transactions_encoded_df"
   ]
  },
  {
   "cell_type": "markdown",
   "id": "f42850dc-5d68-4cae-8f97-d90a72d7ba37",
   "metadata": {},
   "source": [
    "# P076 关联规则挖掘-计算商品的支持度"
   ]
  },
  {
   "cell_type": "code",
   "execution_count": 61,
   "id": "0e613b37-2795-4477-9377-47a449062569",
   "metadata": {},
   "outputs": [],
   "source": [
    "# 某个商品A的支持度\n",
    "# 包含这个商品的交易数目 / 所有的交易数目"
   ]
  },
  {
   "cell_type": "code",
   "execution_count": 67,
   "id": "9297162c-c801-4ee3-b1a2-58e8e27ddf47",
   "metadata": {},
   "outputs": [],
   "source": [
    "support = transactions_encoded_df.sum() / len(transactions_encoded_df)"
   ]
  },
  {
   "cell_type": "code",
   "execution_count": 69,
   "id": "d2089f96-7222-4f80-b406-2b3cd588ded0",
   "metadata": {},
   "outputs": [
    {
     "data": {
      "text/plain": [
       "bread     0.666667\n",
       "butter    0.333333\n",
       "cheese    0.500000\n",
       "eggs      0.500000\n",
       "milk      0.666667\n",
       "dtype: float64"
      ]
     },
     "execution_count": 69,
     "metadata": {},
     "output_type": "execute_result"
    }
   ],
   "source": [
    "support"
   ]
  },
  {
   "cell_type": "markdown",
   "id": "82117df5-ee40-4fdd-97b0-c9b2bf465b72",
   "metadata": {},
   "source": [
    "# P077 关联规则挖掘-计算多个商品的支持度"
   ]
  },
  {
   "cell_type": "code",
   "execution_count": 72,
   "id": "f9673f53-6d79-4bec-a299-f1721c4d19f4",
   "metadata": {},
   "outputs": [],
   "source": [
    "# 商品（A, B）的支持度\n",
    "# 同时包含商品（A, B）的交易数目 / 所有的交易数目"
   ]
  },
  {
   "cell_type": "code",
   "execution_count": 74,
   "id": "b4ec64e2-a2fd-43fa-8715-0774d1492917",
   "metadata": {},
   "outputs": [
    {
     "data": {
      "text/html": [
       "<div>\n",
       "<style scoped>\n",
       "    .dataframe tbody tr th:only-of-type {\n",
       "        vertical-align: middle;\n",
       "    }\n",
       "\n",
       "    .dataframe tbody tr th {\n",
       "        vertical-align: top;\n",
       "    }\n",
       "\n",
       "    .dataframe thead th {\n",
       "        text-align: right;\n",
       "    }\n",
       "</style>\n",
       "<table border=\"1\" class=\"dataframe\">\n",
       "  <thead>\n",
       "    <tr style=\"text-align: right;\">\n",
       "      <th></th>\n",
       "      <th>bread</th>\n",
       "      <th>butter</th>\n",
       "      <th>cheese</th>\n",
       "      <th>eggs</th>\n",
       "      <th>milk</th>\n",
       "    </tr>\n",
       "  </thead>\n",
       "  <tbody>\n",
       "    <tr>\n",
       "      <th>0</th>\n",
       "      <td>1</td>\n",
       "      <td>0</td>\n",
       "      <td>0</td>\n",
       "      <td>1</td>\n",
       "      <td>0</td>\n",
       "    </tr>\n",
       "    <tr>\n",
       "      <th>1</th>\n",
       "      <td>1</td>\n",
       "      <td>0</td>\n",
       "      <td>0</td>\n",
       "      <td>1</td>\n",
       "      <td>1</td>\n",
       "    </tr>\n",
       "    <tr>\n",
       "      <th>2</th>\n",
       "      <td>0</td>\n",
       "      <td>0</td>\n",
       "      <td>1</td>\n",
       "      <td>0</td>\n",
       "      <td>1</td>\n",
       "    </tr>\n",
       "    <tr>\n",
       "      <th>3</th>\n",
       "      <td>1</td>\n",
       "      <td>1</td>\n",
       "      <td>1</td>\n",
       "      <td>0</td>\n",
       "      <td>0</td>\n",
       "    </tr>\n",
       "    <tr>\n",
       "      <th>4</th>\n",
       "      <td>0</td>\n",
       "      <td>0</td>\n",
       "      <td>0</td>\n",
       "      <td>1</td>\n",
       "      <td>1</td>\n",
       "    </tr>\n",
       "    <tr>\n",
       "      <th>5</th>\n",
       "      <td>1</td>\n",
       "      <td>1</td>\n",
       "      <td>1</td>\n",
       "      <td>0</td>\n",
       "      <td>1</td>\n",
       "    </tr>\n",
       "  </tbody>\n",
       "</table>\n",
       "</div>"
      ],
      "text/plain": [
       "   bread  butter  cheese  eggs  milk\n",
       "0      1       0       0     1     0\n",
       "1      1       0       0     1     1\n",
       "2      0       0       1     0     1\n",
       "3      1       1       1     0     0\n",
       "4      0       0       0     1     1\n",
       "5      1       1       1     0     1"
      ]
     },
     "execution_count": 74,
     "metadata": {},
     "output_type": "execute_result"
    }
   ],
   "source": [
    "transactions_encoded_df"
   ]
  },
  {
   "cell_type": "code",
   "execution_count": 78,
   "id": "12e8d695-7152-458c-8cf3-2ffbd33f31ae",
   "metadata": {},
   "outputs": [],
   "source": [
    "sup_butter_bread = (\n",
    "    len(transactions_encoded_df.query(\"butter==1 and bread==1\")) / len(transactions_encoded_df)\n",
    ")"
   ]
  },
  {
   "cell_type": "code",
   "execution_count": 80,
   "id": "831e19ff-c92f-4e83-9e20-bb78f33a0add",
   "metadata": {},
   "outputs": [
    {
     "data": {
      "text/plain": [
       "0.3333333333333333"
      ]
     },
     "execution_count": 80,
     "metadata": {},
     "output_type": "execute_result"
    }
   ],
   "source": [
    "sup_butter_bread"
   ]
  },
  {
   "cell_type": "code",
   "execution_count": 82,
   "id": "47f2c212-682b-4e08-a143-86241f42d82e",
   "metadata": {},
   "outputs": [],
   "source": [
    "sup_butter_milk = (\n",
    "    len(transactions_encoded_df.query(\"butter==1 and milk==1\")) / len(transactions_encoded_df)\n",
    ")"
   ]
  },
  {
   "cell_type": "code",
   "execution_count": 84,
   "id": "81a017e5-3a22-4847-b24a-5e35bee76afd",
   "metadata": {},
   "outputs": [
    {
     "data": {
      "text/plain": [
       "0.16666666666666666"
      ]
     },
     "execution_count": 84,
     "metadata": {},
     "output_type": "execute_result"
    }
   ],
   "source": [
    "sup_butter_milk"
   ]
  },
  {
   "cell_type": "markdown",
   "id": "8bbea31f-59d1-4272-9938-a650e2313d7a",
   "metadata": {},
   "source": [
    "# P078 关联规则挖掘-计算关联规则以及置信度"
   ]
  },
  {
   "cell_type": "code",
   "execution_count": 87,
   "id": "a5e5a1fd-52b5-41ed-a988-fcbe825840c2",
   "metadata": {},
   "outputs": [],
   "source": [
    "# 关联规则 A->B 的置信度，等于\n",
    "# 同时包含（A,B）的交易数目 / 包含A的交易数目"
   ]
  },
  {
   "cell_type": "code",
   "execution_count": 89,
   "id": "654e7185-f4e3-4b02-9e40-64166b7dba7b",
   "metadata": {},
   "outputs": [
    {
     "data": {
      "text/html": [
       "<div>\n",
       "<style scoped>\n",
       "    .dataframe tbody tr th:only-of-type {\n",
       "        vertical-align: middle;\n",
       "    }\n",
       "\n",
       "    .dataframe tbody tr th {\n",
       "        vertical-align: top;\n",
       "    }\n",
       "\n",
       "    .dataframe thead th {\n",
       "        text-align: right;\n",
       "    }\n",
       "</style>\n",
       "<table border=\"1\" class=\"dataframe\">\n",
       "  <thead>\n",
       "    <tr style=\"text-align: right;\">\n",
       "      <th></th>\n",
       "      <th>bread</th>\n",
       "      <th>butter</th>\n",
       "      <th>cheese</th>\n",
       "      <th>eggs</th>\n",
       "      <th>milk</th>\n",
       "    </tr>\n",
       "  </thead>\n",
       "  <tbody>\n",
       "    <tr>\n",
       "      <th>0</th>\n",
       "      <td>1</td>\n",
       "      <td>0</td>\n",
       "      <td>0</td>\n",
       "      <td>1</td>\n",
       "      <td>0</td>\n",
       "    </tr>\n",
       "    <tr>\n",
       "      <th>1</th>\n",
       "      <td>1</td>\n",
       "      <td>0</td>\n",
       "      <td>0</td>\n",
       "      <td>1</td>\n",
       "      <td>1</td>\n",
       "    </tr>\n",
       "    <tr>\n",
       "      <th>2</th>\n",
       "      <td>0</td>\n",
       "      <td>0</td>\n",
       "      <td>1</td>\n",
       "      <td>0</td>\n",
       "      <td>1</td>\n",
       "    </tr>\n",
       "    <tr>\n",
       "      <th>3</th>\n",
       "      <td>1</td>\n",
       "      <td>1</td>\n",
       "      <td>1</td>\n",
       "      <td>0</td>\n",
       "      <td>0</td>\n",
       "    </tr>\n",
       "    <tr>\n",
       "      <th>4</th>\n",
       "      <td>0</td>\n",
       "      <td>0</td>\n",
       "      <td>0</td>\n",
       "      <td>1</td>\n",
       "      <td>1</td>\n",
       "    </tr>\n",
       "    <tr>\n",
       "      <th>5</th>\n",
       "      <td>1</td>\n",
       "      <td>1</td>\n",
       "      <td>1</td>\n",
       "      <td>0</td>\n",
       "      <td>1</td>\n",
       "    </tr>\n",
       "  </tbody>\n",
       "</table>\n",
       "</div>"
      ],
      "text/plain": [
       "   bread  butter  cheese  eggs  milk\n",
       "0      1       0       0     1     0\n",
       "1      1       0       0     1     1\n",
       "2      0       0       1     0     1\n",
       "3      1       1       1     0     0\n",
       "4      0       0       0     1     1\n",
       "5      1       1       1     0     1"
      ]
     },
     "execution_count": 89,
     "metadata": {},
     "output_type": "execute_result"
    }
   ],
   "source": [
    "transactions_encoded_df"
   ]
  },
  {
   "cell_type": "code",
   "execution_count": 91,
   "id": "d8327baa-52a8-4240-98ae-6f222926e7cf",
   "metadata": {},
   "outputs": [],
   "source": [
    "conf_cheese_bread = (\n",
    "    len(transactions_encoded_df.query(\"cheese==1 and bread==1\")) / len(transactions_encoded_df.query(\"cheese==1\"))\n",
    ")"
   ]
  },
  {
   "cell_type": "code",
   "execution_count": 93,
   "id": "0eece93f-f0df-4cbd-ac65-c9c1179c7935",
   "metadata": {},
   "outputs": [
    {
     "data": {
      "text/plain": [
       "0.6666666666666666"
      ]
     },
     "execution_count": 93,
     "metadata": {},
     "output_type": "execute_result"
    }
   ],
   "source": [
    "conf_cheese_bread"
   ]
  },
  {
   "cell_type": "code",
   "execution_count": null,
   "id": "50ea9718-24d0-4d48-810f-3595156cd9e9",
   "metadata": {},
   "outputs": [],
   "source": [
    "conf_chees_bread = (\n",
    "    len(transactions_encoded_df.query(\"cheese==1 and bread==1\")) / len(transactions_encoded_df.query(\"cheese==1\"))\n",
    ")"
   ]
  },
  {
   "cell_type": "code",
   "execution_count": null,
   "id": "65ef4da9-5f4f-466b-8fd9-b6006118b1ee",
   "metadata": {},
   "outputs": [],
   "source": []
  },
  {
   "cell_type": "code",
   "execution_count": null,
   "id": "f354d5c2-b38c-4a72-bca8-6aa9d2438fe8",
   "metadata": {},
   "outputs": [],
   "source": []
  },
  {
   "cell_type": "code",
   "execution_count": null,
   "id": "3ccd368d-adbf-42b4-900e-1b30e19e75e7",
   "metadata": {},
   "outputs": [],
   "source": []
  },
  {
   "cell_type": "code",
   "execution_count": null,
   "id": "2f3d7b3a-7353-4ab5-a148-0c07fdcb4c2f",
   "metadata": {},
   "outputs": [],
   "source": []
  },
  {
   "cell_type": "code",
   "execution_count": null,
   "id": "b532f351-1b00-4359-a1b5-d0e9a8152b92",
   "metadata": {},
   "outputs": [],
   "source": []
  }
 ],
 "metadata": {
  "kernelspec": {
   "display_name": "Python [conda env:base] *",
   "language": "python",
   "name": "conda-base-py"
  },
  "language_info": {
   "codemirror_mode": {
    "name": "ipython",
    "version": 3
   },
   "file_extension": ".py",
   "mimetype": "text/x-python",
   "name": "python",
   "nbconvert_exporter": "python",
   "pygments_lexer": "ipython3",
   "version": "3.12.7"
  }
 },
 "nbformat": 4,
 "nbformat_minor": 5
}
